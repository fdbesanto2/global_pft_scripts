{
 "cells": [
  {
   "cell_type": "markdown",
   "metadata": {},
   "source": [
    "\n",
    "\n"
   ]
  },
  {
   "cell_type": "code",
   "execution_count": null,
   "metadata": {},
   "outputs": [],
   "source": [
    "%matplotlib inline\n",
    "import numpy as np\n",
    "import warnings\n",
    "warnings.filterwarnings('ignore')\n",
    "import xarray as xr\n",
    "from matplotlib import pyplot as plt\n",
    "import datetime\n",
    "import cartopy\n",
    "import cartopy.crs as ccrs"
   ]
  },
  {
   "cell_type": "markdown",
   "metadata": {},
   "source": [
    "Then we make an ugly list of variables to ignore (the files being large)\n",
    "\n",
    "(n.b. does anyone know how to make this inclusive rather than exclusive? \n",
    "Reading in >10 years of 4x5 output takes nearly forever)"
   ]
  },
  {
   "cell_type": "code",
   "execution_count": null,
   "metadata": {},
   "outputs": [],
   "source": [
    "drop={'ACTUAL_IMMOB','ATM_TOPO','BCDEP','BTRAN','CBALANCE_ERROR_BGC','CBALANCE_ERROR_ED','CBALANCE_ERROR_TOTAL',\n",
    "      'CWD_STOCK_COL','C_LBLAYER','C_STOMATA','DENIT','DSL','DSTDEP','DSTFLXT','EFLXBUILD','EFLX_DYNBAL',\n",
    "      'EFLX_GRND_LAKE','EFLX_LH_TOT','EFLX_LH_TOT_R','EFLXBUILD','EFLX_DYNBAL','EFLX_GRND_LAKE','EFLX_LH_TOT',\n",
    "      'EFLX_LH_TOT_R','ERRH2O','ERRH2OSNO','ERRSEB','ERRSOI','FCEV','FCOV','FCTR','FFIX_TO_SMINN','FGEV','FGR',\n",
    "      'FGR12','FH2OSFC','FIRA','FIRA_R','FIRE','FSA','FSAT','FSDS','FSDSND','FSDSNDLN','FSDSNI','FSDSVD','FSDSVDLN',\n",
    "      'FSDSVI','FSDSVILN','FSH','FSH_PRECIP_CONVERSION','FSH_G','FSH_R','FSH_RUNOFF_ICE_TO_LIQ','FSH_TO_COUPLER',\n",
    "      'FSH_V','FSM','FSNO','FSNO_EFF','FSR','FSRND','FSRNDLN','FSRNI','FSRVD','FSRVDLN','FSRVI','GROSS_NMIN','H2OCAN',\n",
    "      'H2OSNO_TOP','HEAT_CONTENT1','HEAT_FROM_AC','HIA','HIA_R','HIA_U','HUMIDEX','HUMIDEX_R','HUMIDEX_U',\n",
    "      'ICE_CONTENT1','LAKEICEFRAC_SURF','LAKEICETHICK','LIQUID_CONTENT1','LITR1N','LITR1N_vr','LITR2N','LITR2N_vr',\n",
    "      'LITR3N','LITR3N_vr','NDEP_TO_SMINN','NET_NMIN','O_SCALAR','PARVEGLN','PBOT','PCT_GLC_MEC','POTENTIAL_IMMOB',\n",
    "      'QCHARGE','QDRAI','QDRAI_PERCH','QDRAI_XS','QDRIP','QFLOOD','QFLOOD','QFLX_DEW_GRND','QFLX_DEW_SNOW',\n",
    "      'QFLX_EVAP_TOT','QFLX_ICE_DYNBAL','QFLX_LIQ_DYNBAL','QFLX_SNOW_DRAIN','QFLX_SNOW_DRAIN_ICE','QFLX_SUB_SNOW',\n",
    "      'QH2OSFC','QICE','QICE_FRZ','QICE_MELT','QINFL','QINTR','QIRRIG','QOVER','QRGWL','QRUNOFF','QRUNOFF_ICE',\n",
    "      'QRUNOFF_TO_COUPLER','QSNOCPLIQ','QSNOFRZ','QSNOFRZ_ICE','QSNOMELT','QSNOMELT_ICE','QSNO_TEMPUNLOAD',\n",
    "      'QSNO_WINDUNLOAD','QSNWCPICE', 'QSOIL_ICE','SABG_PEN','SABV','SMINN','SMINN_LEACHED','SMINN_TO_PLANT',\n",
    "      'SNOBCMCL','SNOBCMSL','SNOCAN','SNODSTMCL','SNODSTMSL','SNOFSRND','SNOFSRND','SNOFSRVD','SNOFSRVI',\n",
    "      'SNOINTABS','SNOOCMCL','SNOOCMSL','SNOTXMASS','SNOUNLOAD','SNOW_PERSISTENCE','SNOW_SINKS','SNOW_SOURCES',\n",
    "      'SOIL1N','SOIL1N_vr','SOIL2N','SOIL2N_vr','SOIL3N','SOIL3N_vr','SOILC_HR','SOILICE','SOILLIQ','SOILRESIS',\n",
    "      'SOILWATER_10CM','SOM_C_LEACHED','SUPPLEMENT_TO_SMINN','SWBGT','SWBGT_U','TAUX','TAUY','TKE1','TLAKE',\n",
    "      'TREFMNAV','TREFMXAV','TSOI_ICE','T_SCALAR','U10','U10_DUST','URBAN_AC','URBAN_HEAT','VOLR','VOLRMCH',\n",
    "      'WASTEHEAT','WBT','WBT_R','WBT_U','W_SCALAR','ZBOT','ZWT','ZWT_PERCH'}"
   ]
  },
  {
   "cell_type": "markdown",
   "metadata": {},
   "source": [
    "Read data from the archive: (but only the first couple of years for the sake of the aforementioned slowness)"
   ]
  },
  {
   "cell_type": "code",
   "execution_count": null,
   "metadata": {},
   "outputs": [],
   "source": [
    "pftnames=['BET','NET','DDT','CDT','C3','C4']\n",
    "print(pftnames)\n",
    "fig = plt.figure()\n",
    "plt.rcParams['figure.figsize'] = [16, 10]\n",
    "fig.suptitle('LAI', fontsize=16)\n",
    "fig.subplots_adjust(hspace=0.1, wspace=0.1)\n",
    "\n",
    "scratch = '/glade/scratch/rfisher/'\n",
    "arc = scratch + 'archive/' + run + '/lnd/hist/'\n",
    "yr='.clm2.h0.0009-06.nc'\n",
    "runname='fates_pftboundaries'\n",
    "pfts=range(1,7)\n",
    "for pft1 in pfts:\n",
    "   ax = fig.add_subplot(2, 3, pft1)     \n",
    "   run=runname+str(pft1)\n",
    "   arc = scratch + 'archive/' + run + '/lnd/hist/'\n",
    "   f2=(arc +run+yr) \n",
    "   print(f2)\n",
    "   import os.path\n",
    "   f=os.path.isfile(f2)\n",
    "   if(f):\n",
    "    ds0 = xr.open_mfdataset([f2], drop_variables=drop, decode_times=False)\n",
    "   else:\n",
    "     arc = scratch + run + '/run/'\n",
    "     f2=(arc +run+yr)\n",
    "     print(f2)\n",
    "     ds0 = xr.open_mfdataset([f2], drop_variables=drop, decode_times=False)    \n",
    "   ds0.TLAI.plot(clim=[0,2])\n",
    "   plt.title(pftnames[pft1-1])    \n",
    "   ax.get_xaxis().set_visible(False)\n",
    "   ax.get_yaxis().set_visible(False)\n",
    "   #ax.get_title().set_visible(False)"
   ]
  },
  {
   "cell_type": "code",
   "execution_count": null,
   "metadata": {},
   "outputs": [],
   "source": [
    "pftnames=['BET','NET','DDT','CDT','C3','C4']\n",
    "print(pftnames)\n",
    "fig = plt.figure()\n",
    "plt.rcParams['figure.figsize'] = [19, 19]\n",
    "fig.suptitle('LAI', fontsize=16)\n",
    "fig.subplots_adjust(hspace=0.2, wspace=0.2)\n",
    "\n",
    "scratch = '/glade/scratch/rfisher/'\n",
    "arc = scratch + 'archive/' + run + '/lnd/hist/'\n",
    "yr='.clm2.h0.0009-06.nc'\n",
    "\n",
    "count=1\n",
    "pfts=range(0,7)\n",
    "for pft1 in pfts:\n",
    "   print(pft1)\n",
    "   pft2=1\n",
    "   while (pft2<pft1):     \n",
    "    nplot = (pft1-2)*6+(pft2)\n",
    "    print(pft1,pft2,nplot) \n",
    "    print(pftnames[pft1-1],pftnames[pft2-1])\n",
    "    ax = fig.add_subplot(6, 6, nplot)    \n",
    "    run=runname+str(pft1)+str(pft2)\n",
    "    print(run)\n",
    "    arc = scratch + 'archive/' + run + '/lnd/hist/'\n",
    "    f2=(arc +run+yr)  \n",
    "    count = count+1\n",
    "    import os.path\n",
    "    f=os.path.isfile(f2)\n",
    "    print(f)\n",
    "    if(f):   \n",
    "     print('arc')\n",
    "     ds0 = xr.open_mfdataset([f2], drop_variables=drop, decode_times=False)\n",
    "    else:\n",
    "     arc = scratch + run + '/run/'\n",
    "     print('scr')\n",
    "     f2=(arc +run+yr)\n",
    "     print(f2)\n",
    "     ds0 = xr.open_mfdataset([f2], drop_variables=drop, decode_times=False)    \n",
    "    print(ds0.PFTleafbiomass.sizes)\n",
    "    np.divide(ds0.PFTleafbiomass[0,0,:,:],(ds0.PFTleafbiomass[0,1,:,:]+ds0.PFTleafbiomass[0,0,:,:])).plot(clim=[0,1\n",
    "                                                                                                               ]) \n",
    "\n",
    "    plt.title(pftnames[pft1-1]+' vs. '+pftnames[pft2-1])    \n",
    "    ax.get_xaxis().set_visible(False)\n",
    "    ax.get_yaxis().set_visible(False)\n",
    "    pft2 = pft2 + 1\n",
    "  "
   ]
  },
  {
   "cell_type": "code",
   "execution_count": null,
   "metadata": {},
   "outputs": [],
   "source": [
    "ds0.PFTleafbiomass[2,0,:,:].plot()"
   ]
  },
  {
   "cell_type": "code",
   "execution_count": null,
   "metadata": {},
   "outputs": [],
   "source": [
    "plt.clim=[0,2]\n",
    "print(ds0.TLAI.sizes)\n",
    "ds0.TLAI[1,:,:].plot(clim=[0,2])\n"
   ]
  },
  {
   "cell_type": "markdown",
   "metadata": {},
   "source": [
    "Then we plot a timeseries of the LAI of all global points"
   ]
  },
  {
   "cell_type": "code",
   "execution_count": null,
   "metadata": {},
   "outputs": [],
   "source": []
  }
 ],
 "metadata": {
  "kernelspec": {
   "display_name": "Python [conda env:miniconda3-analysis]",
   "language": "python",
   "name": "conda-env-miniconda3-analysis-py"
  },
  "language_info": {
   "codemirror_mode": {
    "name": "ipython",
    "version": 3
   },
   "file_extension": ".py",
   "mimetype": "text/x-python",
   "name": "python",
   "nbconvert_exporter": "python",
   "pygments_lexer": "ipython3",
   "version": "3.7.3"
  }
 },
 "nbformat": 4,
 "nbformat_minor": 4
}
